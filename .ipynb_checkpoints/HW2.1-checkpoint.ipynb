{
 "cells": [
  {
   "cell_type": "markdown",
   "metadata": {},
   "source": [
    "# Clustering Yelp Restaurants"
   ]
  },
  {
   "cell_type": "markdown",
   "metadata": {},
   "source": [
    "**To be completed INDIVIDUALLY and due on Febrary 17 at 7pm.**"
   ]
  },
  {
   "cell_type": "markdown",
   "metadata": {},
   "source": [
    "In this assignment, we will be working with the [Yelp dataset](https://www.yelp.com/dataset/challenge). Download the data from Round 11. You can find the format of the dataset [here](https://www.yelp.com/dataset/documentation/json)."
   ]
  },
  {
   "cell_type": "markdown",
   "metadata": {},
   "source": [
    "a) From the Business Objects, let's try to find culinary districts in **Las Vegas**. These are characterized by closeness and similarity of restaurants. Use the \"longitude\" and \"latitude\" to cluster closeness. Use \"categories\" to cluster for similarity. You are going to use the following popular categories: 'Mexican', 'Fast Food', 'Pizza', 'American (Traditional)', 'Sandwitches', 'Breakfast & Brunch', 'Chinese', 'Italian'.\n",
    "\n",
    "Note that the spatial coordinates and restaurant categories have different units of scale. Your results could be arbitrarily skewed if you don't incorporate some scaling. For this purpose, you need to scale the latitude and longitude at a range from [1,5].\n",
    "\n",
    "Find clusters using the 3 different techniques we discussed in class: k-means++, hierarchical, and GMM. **(3 pts)**"
   ]
  },
  {
   "cell_type": "code",
   "execution_count": 57,
   "metadata": {
    "scrolled": false
   },
   "outputs": [
    {
     "name": "stdout",
     "output_type": "stream",
     "text": [
      "           lat        long                                          cats\n",
      "0    36.064652 -115.118954                                   [Fast Food]\n",
      "1    36.111057 -115.241688                                     [Italian]\n",
      "2    36.130013 -115.109310                                   [Fast Food]\n",
      "3    36.112895 -115.062353                                   [Fast Food]\n",
      "4    36.034244 -115.171409                      [American (Traditional)]\n",
      "5    36.010086 -115.118656                              [Italian, Pizza]\n",
      "6    36.098632 -115.136079                                     [Mexican]\n",
      "7    36.271838 -115.263279                      [American (Traditional)]\n",
      "8    36.140925 -115.142887  [American (Traditional), Breakfast & Brunch]\n",
      "9    36.238059 -115.210341                                       [Pizza]\n",
      "10   36.159483 -115.287451                                     [Mexican]\n",
      "11   36.122084 -115.168032                          [Fast Food, Chinese]\n",
      "12   36.124902 -115.134710                                     [Mexican]\n",
      "13   36.011541 -115.175896                          [Breakfast & Brunch]\n",
      "14   36.098909 -115.175557                                   [Fast Food]\n",
      "15   36.068003 -115.176446                                   [Fast Food]\n",
      "16   36.070325 -115.224953                                       [Pizza]\n",
      "17   36.091219 -115.175804                      [American (Traditional)]\n",
      "18   36.291437 -115.287016                                       [Pizza]\n",
      "19   36.160480 -115.172330                                   [Fast Food]\n",
      "20   36.058716 -115.243357           [Fast Food, American (Traditional)]\n",
      "21   36.101319 -115.244375                                     [Mexican]\n",
      "22   36.273015 -115.251862                          [Fast Food, Mexican]\n",
      "23   36.147710 -115.155206                          [Breakfast & Brunch]\n",
      "24   36.165658 -115.116579                                     [Mexican]\n",
      "25   36.101558 -115.137433                                   [Fast Food]\n",
      "26   36.117384 -115.170322                      [American (Traditional)]\n",
      "27   36.106595 -115.170954                                       [Pizza]\n",
      "28   36.173984 -115.079721                          [Chinese, Fast Food]\n",
      "29   36.241216 -115.077913                                       [Pizza]\n",
      "..         ...         ...                                           ...\n",
      "99   36.100692 -115.139449                          [Breakfast & Brunch]\n",
      "100  36.084475 -115.241276                          [Breakfast & Brunch]\n",
      "101  36.072403 -115.101393                          [Mexican, Fast Food]\n",
      "102  36.059982 -115.279878                                   [Fast Food]\n",
      "103  36.114871 -115.206673                                       [Pizza]\n",
      "104  36.059631 -115.119423                                       [Pizza]\n",
      "105  36.130315 -115.140852                                     [Italian]\n",
      "106  36.121237 -115.174105                      [American (Traditional)]\n",
      "107  36.134915 -115.175822                                     [Mexican]\n",
      "108  36.144531 -115.137546                                   [Fast Food]\n",
      "109  36.011406 -115.175779                                   [Fast Food]\n",
      "110  36.142326 -115.156148                          [Breakfast & Brunch]\n",
      "111  36.196525 -115.250728                                   [Fast Food]\n",
      "112  36.146504 -115.207207                      [American (Traditional)]\n",
      "113  36.298238 -115.270018                                       [Pizza]\n",
      "114  36.174561 -115.137042                                     [Mexican]\n",
      "115  36.131499 -115.164162                      [American (Traditional)]\n",
      "116  36.171222 -115.205113                                   [Fast Food]\n",
      "117  36.218543 -115.259564                      [American (Traditional)]\n",
      "118  36.102379 -115.174547                              [Italian, Pizza]\n",
      "119  36.195600 -115.227000                                   [Fast Food]\n",
      "120  36.120000 -115.137856                                   [Fast Food]\n",
      "121  36.142401 -115.114898               [Pizza, American (Traditional)]\n",
      "122  36.113961 -115.090920                      [American (Traditional)]\n",
      "123  36.158496 -115.285748                          [Breakfast & Brunch]\n",
      "124  36.115059 -115.172109                                     [Italian]\n",
      "125  36.178097 -115.241428                      [American (Traditional)]\n",
      "126  36.105006 -115.175298                                   [Fast Food]\n",
      "127  36.112289 -115.297923                                     [Mexican]\n",
      "128  36.100035 -115.198408                                     [Mexican]\n",
      "\n",
      "[129 rows x 3 columns]\n",
      "          lat      long                                          cats\n",
      "0    1.880290  4.107408                                   [Fast Food]\n",
      "1    2.500061  2.171897                                     [Italian]\n",
      "2    2.753227  4.259496                                   [Fast Food]\n",
      "3    2.524609  5.000000                                   [Fast Food]\n",
      "4    1.474158  3.280191                      [American (Traditional)]\n",
      "5    1.151512  4.112105                              [Italian, Pizza]\n",
      "6    2.334115  3.837345                                     [Mexican]\n",
      "7    4.647409  1.831403                      [American (Traditional)]\n",
      "8    2.898970  3.729981  [American (Traditional), Breakfast & Brunch]\n",
      "9    4.196262  2.666240                                       [Pizza]\n",
      "10   3.146816  1.450220                                     [Mexican]\n",
      "11   2.647331  3.333458                          [Fast Food, Chinese]\n",
      "12   2.684968  3.858938                                     [Mexican]\n",
      "13   1.170953  3.209429                          [Breakfast & Brunch]\n",
      "14   2.337813  3.214782                                   [Fast Food]\n",
      "15   1.925045  3.200766                                   [Fast Food]\n",
      "16   1.956052  2.435817                                       [Pizza]\n",
      "17   2.235111  3.210889                      [American (Traditional)]\n",
      "18   4.909157  1.457078                                       [Pizza]\n",
      "19   3.160145  3.265672                                   [Fast Food]\n",
      "20   1.801006  2.145577           [Fast Food, American (Traditional)]\n",
      "21   2.370000  2.129524                                     [Mexican]\n",
      "22   4.663121  2.011451                          [Fast Food, Mexican]\n",
      "23   2.989579  3.535719                          [Breakfast & Brunch]\n",
      "24   3.229300  4.144872                                     [Mexican]\n",
      "25   2.373190  3.816000                                   [Fast Food]\n",
      "26   2.584564  3.297335                      [American (Traditional)]\n",
      "27   2.440464  3.287367                                       [Pizza]\n",
      "28   3.340499  4.726120                          [Chinese, Fast Food]\n",
      "29   4.238432  4.754623                                       [Pizza]\n",
      "..        ...       ...                                           ...\n",
      "99   2.361632  3.784199                          [Breakfast & Brunch]\n",
      "100  2.145035  2.178402                          [Breakfast & Brunch]\n",
      "101  1.983803  4.384347                          [Mexican, Fast Food]\n",
      "102  1.817915  1.569643                                   [Fast Food]\n",
      "103  2.551001  2.724076                                       [Pizza]\n",
      "104  1.813227  4.100014                                       [Pizza]\n",
      "105  2.757263  3.762079                                     [Italian]\n",
      "106  2.636020  3.237680                      [American (Traditional)]\n",
      "107  2.818705  3.210603                                     [Mexican]\n",
      "108  2.947128  3.814217                                   [Fast Food]\n",
      "109  1.169151  3.211286                                   [Fast Food]\n",
      "110  2.917677  3.520866                          [Breakfast & Brunch]\n",
      "111  3.641545  2.029336                                   [Fast Food]\n",
      "112  2.973481  2.715660                      [American (Traditional)]\n",
      "113  5.000000  1.725130                                       [Pizza]\n",
      "114  3.348197  3.822163                                     [Mexican]\n",
      "115  2.773081  3.394475                      [American (Traditional)]\n",
      "116  3.303610  2.748684                                   [Fast Food]\n",
      "117  3.935610  1.889991                      [American (Traditional)]\n",
      "118  2.384152  3.230718                              [Italian, Pizza]\n",
      "119  3.629191  2.403528                                   [Fast Food]\n",
      "120  2.619505  3.809324                                   [Fast Food]\n",
      "121  2.918680  4.171373               [Pizza, American (Traditional)]\n",
      "122  2.538847  4.549501                      [American (Traditional)]\n",
      "123  3.133644  1.477075                          [Breakfast & Brunch]\n",
      "124  2.553511  3.269156                                     [Italian]\n",
      "125  3.395429  2.176002                      [American (Traditional)]\n",
      "126  2.419245  3.218868                                   [Fast Food]\n",
      "127  2.516511  1.285074                                     [Mexican]\n",
      "128  2.352846  2.854425                                     [Mexican]\n",
      "\n",
      "[129 rows x 3 columns]\n"
     ]
    }
   ],
   "source": [
    "import json\n",
    "import pandas as pd\n",
    "from sklearn import preprocessing\n",
    "import numpy as np\n",
    "\n",
    "np.set_printoptions(threshold=np.nan)\n",
    "\n",
    "business = []\n",
    "popcats = ['Mexican', 'Fast Food', 'Pizza', 'American (Traditional)', 'Sandwitches', 'Breakfast & Brunch', 'Chinese', 'Italian']\n",
    "with open('test.json') as f:\n",
    "    for line in f:\n",
    "        tmp = json.loads(line)\n",
    "        if tmp['city']=='Las Vegas':\n",
    "            if 'Restaurants' in tmp['categories']:\n",
    "                tmpcat = []\n",
    "                \n",
    "                for item in tmp['categories']:\n",
    "                    for item2 in popcats:\n",
    "                        if (item == item2):\n",
    "                            tmpcat.append(item)\n",
    "                if tmpcat:\n",
    "                    business.append([tmp['latitude'], tmp['longitude'], tmpcat])\n",
    "labels = ['lat', 'long', 'cats']\n",
    "df = pd.DataFrame(business, columns = labels)\n",
    "#print(business)\n",
    "print(df)\n",
    "\n",
    "min_max_scaler = preprocessing.MinMaxScaler()\n",
    "\n",
    "lat_minmax = min_max_scaler.fit_transform(df.loc[:, 'lat'].values.reshape(-1,1))\n",
    "long_minmax = min_max_scaler.fit_transform(df.loc[:, 'long'].values.reshape(-1,1))\n",
    "\n",
    "latoneto5list = []\n",
    "longoneto5list = []\n",
    "for index in range(len(lat_minmax)):\n",
    "    temp1 = (((lat_minmax[index] - lat_minmax.min()) * (5 - 1)) / (lat_minmax.max() - lat_minmax.min())) + 1\n",
    "    temp2 = (((long_minmax[index] - long_minmax.min()) * (5 - 1)) / (long_minmax.max() - long_minmax.min())) + 1\n",
    "    latoneto5list.append(temp1)\n",
    "    longoneto5list.append(temp2)\n",
    "    \n",
    "latoneto5 = np.array(latoneto5list)\n",
    "longoneto5 = np.array(longoneto5list)\n",
    "\n",
    "df.loc[:,'lat'] = latoneto5\n",
    "df.loc[:,'long'] = longoneto5\n",
    "print(df)"
   ]
  },
  {
   "cell_type": "code",
   "execution_count": 65,
   "metadata": {},
   "outputs": [
    {
     "name": "stdout",
     "output_type": "stream",
     "text": [
      "[['Fast Food'] ['Italian'] ['Fast Food'] ['Fast Food']\n",
      " ['American (Traditional)'] ['Italian', 'Pizza'] ['Mexican']\n",
      " ['American (Traditional)']\n",
      " ['American (Traditional)', 'Breakfast & Brunch'] ['Pizza'] ['Mexican']\n",
      " ['Fast Food', 'Chinese'] ['Mexican'] ['Breakfast & Brunch'] ['Fast Food']\n",
      " ['Fast Food'] ['Pizza'] ['American (Traditional)'] ['Pizza'] ['Fast Food']\n",
      " ['Fast Food', 'American (Traditional)'] ['Mexican']\n",
      " ['Fast Food', 'Mexican'] ['Breakfast & Brunch'] ['Mexican'] ['Fast Food']\n",
      " ['American (Traditional)'] ['Pizza'] ['Chinese', 'Fast Food'] ['Pizza']\n",
      " ['Mexican'] ['Fast Food', 'American (Traditional)'] ['Mexican']\n",
      " ['Pizza', 'Italian'] ['Breakfast & Brunch'] ['Fast Food'] ['Mexican']\n",
      " ['Fast Food'] ['Chinese'] ['Mexican'] ['Mexican'] ['Pizza'] ['Mexican']\n",
      " ['Mexican'] ['Fast Food'] ['Mexican'] ['Pizza'] ['American (Traditional)']\n",
      " ['Pizza'] ['Fast Food'] ['Pizza'] ['Fast Food'] ['Mexican'] ['Chinese']\n",
      " ['American (Traditional)'] ['Fast Food'] ['Breakfast & Brunch']\n",
      " ['American (Traditional)'] ['American (Traditional)'] ['Fast Food']\n",
      " ['Chinese'] ['Mexican'] ['Mexican'] ['Pizza'] ['Fast Food']\n",
      " ['Fast Food', 'Mexican'] ['Breakfast & Brunch'] ['Chinese']\n",
      " ['Pizza', 'Italian'] ['Mexican'] ['Breakfast & Brunch']\n",
      " ['American (Traditional)', 'Pizza'] ['Chinese'] ['Mexican']\n",
      " ['American (Traditional)', 'Pizza', 'Breakfast & Brunch'] ['Mexican']\n",
      " ['Fast Food'] ['Pizza'] ['Pizza'] ['Mexican'] ['American (Traditional)']\n",
      " ['Mexican', 'Fast Food'] ['American (Traditional)'] ['Pizza', 'Italian']\n",
      " ['Pizza'] ['Chinese'] ['Mexican'] ['American (Traditional)'] ['Fast Food']\n",
      " ['Chinese'] ['Fast Food', 'Chinese'] ['Breakfast & Brunch']\n",
      " ['American (Traditional)', 'Breakfast & Brunch']\n",
      " ['Pizza', 'American (Traditional)'] ['Italian'] ['American (Traditional)']\n",
      " ['Fast Food'] ['Pizza'] ['Pizza'] ['Breakfast & Brunch']\n",
      " ['Breakfast & Brunch'] ['Mexican', 'Fast Food'] ['Fast Food'] ['Pizza']\n",
      " ['Pizza'] ['Italian'] ['American (Traditional)'] ['Mexican'] ['Fast Food']\n",
      " ['Fast Food'] ['Breakfast & Brunch'] ['Fast Food']\n",
      " ['American (Traditional)'] ['Pizza'] ['Mexican']\n",
      " ['American (Traditional)'] ['Fast Food'] ['American (Traditional)']\n",
      " ['Italian', 'Pizza'] ['Fast Food'] ['Fast Food']\n",
      " ['Pizza', 'American (Traditional)'] ['American (Traditional)']\n",
      " ['Breakfast & Brunch'] ['Italian'] ['American (Traditional)']\n",
      " ['Fast Food'] ['Mexican'] ['Mexican']]\n",
      "['Fast Food', 'Italian', 'Fast Food', 'Fast Food', 'American (Traditional)', 'Italian Pizza ', 'Mexican', 'American (Traditional)', 'American (Traditional) Breakfast & Brunch ', 'Pizza', 'Mexican', 'Fast Food Chinese ', 'Mexican', 'Breakfast & Brunch', 'Fast Food', 'Fast Food', 'Pizza', 'American (Traditional)', 'Pizza', 'Fast Food', 'Fast Food American (Traditional) ', 'Mexican', 'Fast Food Mexican ', 'Breakfast & Brunch', 'Mexican', 'Fast Food', 'American (Traditional)', 'Pizza', 'Chinese Fast Food ', 'Pizza', 'Mexican', 'Fast Food American (Traditional) ', 'Mexican', 'Pizza Italian ', 'Breakfast & Brunch', 'Fast Food', 'Mexican', 'Fast Food', 'Chinese', 'Mexican', 'Mexican', 'Pizza', 'Mexican', 'Mexican', 'Fast Food', 'Mexican', 'Pizza', 'American (Traditional)', 'Pizza', 'Fast Food', 'Pizza', 'Fast Food', 'Mexican', 'Chinese', 'American (Traditional)', 'Fast Food', 'Breakfast & Brunch', 'American (Traditional)', 'American (Traditional)', 'Fast Food', 'Chinese', 'Mexican', 'Mexican', 'Pizza', 'Fast Food', 'Fast Food Mexican ', 'Breakfast & Brunch', 'Chinese', 'Pizza Italian ', 'Mexican', 'Breakfast & Brunch', 'American (Traditional) Pizza ', 'Chinese', 'Mexican', 'American (Traditional) Pizza Breakfast & Brunch ', 'Mexican', 'Fast Food', 'Pizza', 'Pizza', 'Mexican', 'American (Traditional)', 'Mexican Fast Food ', 'American (Traditional)', 'Pizza Italian ', 'Pizza', 'Chinese', 'Mexican', 'American (Traditional)', 'Fast Food', 'Chinese', 'Fast Food Chinese ', 'Breakfast & Brunch', 'American (Traditional) Breakfast & Brunch ', 'Pizza American (Traditional) ', 'Italian', 'American (Traditional)', 'Fast Food', 'Pizza', 'Pizza', 'Breakfast & Brunch', 'Breakfast & Brunch', 'Mexican Fast Food ', 'Fast Food', 'Pizza', 'Pizza', 'Italian', 'American (Traditional)', 'Mexican', 'Fast Food', 'Fast Food', 'Breakfast & Brunch', 'Fast Food', 'American (Traditional)', 'Pizza', 'Mexican', 'American (Traditional)', 'Fast Food', 'American (Traditional)', 'Italian Pizza ', 'Fast Food', 'Fast Food', 'Pizza American (Traditional) ', 'American (Traditional)', 'Breakfast & Brunch', 'Italian', 'American (Traditional)', 'Fast Food', 'Mexican', 'Mexican']\n",
      "['american', 'breakfast', 'brunch', 'chinese', 'fast', 'food', 'italian', 'mexican', 'pizza', 'traditional']\n",
      "[[0, 0, 0, 0, 1, 1, 0, 0, 0, 0], [0, 0, 0, 0, 0, 0, 1, 0, 0, 0], [0, 0, 0, 0, 1, 1, 0, 0, 0, 0], [0, 0, 0, 0, 1, 1, 0, 0, 0, 0], [1, 0, 0, 0, 0, 0, 0, 0, 0, 1], [0, 0, 0, 0, 0, 0, 1, 0, 1, 0], [0, 0, 0, 0, 0, 0, 0, 1, 0, 0], [1, 0, 0, 0, 0, 0, 0, 0, 0, 1], [1, 1, 1, 0, 0, 0, 0, 0, 0, 1], [0, 0, 0, 0, 0, 0, 0, 0, 1, 0], [0, 0, 0, 0, 0, 0, 0, 1, 0, 0], [0, 0, 0, 1, 1, 1, 0, 0, 0, 0], [0, 0, 0, 0, 0, 0, 0, 1, 0, 0], [0, 1, 1, 0, 0, 0, 0, 0, 0, 0], [0, 0, 0, 0, 1, 1, 0, 0, 0, 0], [0, 0, 0, 0, 1, 1, 0, 0, 0, 0], [0, 0, 0, 0, 0, 0, 0, 0, 1, 0], [1, 0, 0, 0, 0, 0, 0, 0, 0, 1], [0, 0, 0, 0, 0, 0, 0, 0, 1, 0], [0, 0, 0, 0, 1, 1, 0, 0, 0, 0], [1, 0, 0, 0, 1, 1, 0, 0, 0, 1], [0, 0, 0, 0, 0, 0, 0, 1, 0, 0], [0, 0, 0, 0, 1, 1, 0, 1, 0, 0], [0, 1, 1, 0, 0, 0, 0, 0, 0, 0], [0, 0, 0, 0, 0, 0, 0, 1, 0, 0], [0, 0, 0, 0, 1, 1, 0, 0, 0, 0], [1, 0, 0, 0, 0, 0, 0, 0, 0, 1], [0, 0, 0, 0, 0, 0, 0, 0, 1, 0], [0, 0, 0, 1, 1, 1, 0, 0, 0, 0], [0, 0, 0, 0, 0, 0, 0, 0, 1, 0], [0, 0, 0, 0, 0, 0, 0, 1, 0, 0], [1, 0, 0, 0, 1, 1, 0, 0, 0, 1], [0, 0, 0, 0, 0, 0, 0, 1, 0, 0], [0, 0, 0, 0, 0, 0, 1, 0, 1, 0], [0, 1, 1, 0, 0, 0, 0, 0, 0, 0], [0, 0, 0, 0, 1, 1, 0, 0, 0, 0], [0, 0, 0, 0, 0, 0, 0, 1, 0, 0], [0, 0, 0, 0, 1, 1, 0, 0, 0, 0], [0, 0, 0, 1, 0, 0, 0, 0, 0, 0], [0, 0, 0, 0, 0, 0, 0, 1, 0, 0], [0, 0, 0, 0, 0, 0, 0, 1, 0, 0], [0, 0, 0, 0, 0, 0, 0, 0, 1, 0], [0, 0, 0, 0, 0, 0, 0, 1, 0, 0], [0, 0, 0, 0, 0, 0, 0, 1, 0, 0], [0, 0, 0, 0, 1, 1, 0, 0, 0, 0], [0, 0, 0, 0, 0, 0, 0, 1, 0, 0], [0, 0, 0, 0, 0, 0, 0, 0, 1, 0], [1, 0, 0, 0, 0, 0, 0, 0, 0, 1], [0, 0, 0, 0, 0, 0, 0, 0, 1, 0], [0, 0, 0, 0, 1, 1, 0, 0, 0, 0], [0, 0, 0, 0, 0, 0, 0, 0, 1, 0], [0, 0, 0, 0, 1, 1, 0, 0, 0, 0], [0, 0, 0, 0, 0, 0, 0, 1, 0, 0], [0, 0, 0, 1, 0, 0, 0, 0, 0, 0], [1, 0, 0, 0, 0, 0, 0, 0, 0, 1], [0, 0, 0, 0, 1, 1, 0, 0, 0, 0], [0, 1, 1, 0, 0, 0, 0, 0, 0, 0], [1, 0, 0, 0, 0, 0, 0, 0, 0, 1], [1, 0, 0, 0, 0, 0, 0, 0, 0, 1], [0, 0, 0, 0, 1, 1, 0, 0, 0, 0], [0, 0, 0, 1, 0, 0, 0, 0, 0, 0], [0, 0, 0, 0, 0, 0, 0, 1, 0, 0], [0, 0, 0, 0, 0, 0, 0, 1, 0, 0], [0, 0, 0, 0, 0, 0, 0, 0, 1, 0], [0, 0, 0, 0, 1, 1, 0, 0, 0, 0], [0, 0, 0, 0, 1, 1, 0, 1, 0, 0], [0, 1, 1, 0, 0, 0, 0, 0, 0, 0], [0, 0, 0, 1, 0, 0, 0, 0, 0, 0], [0, 0, 0, 0, 0, 0, 1, 0, 1, 0], [0, 0, 0, 0, 0, 0, 0, 1, 0, 0], [0, 1, 1, 0, 0, 0, 0, 0, 0, 0], [1, 0, 0, 0, 0, 0, 0, 0, 1, 1], [0, 0, 0, 1, 0, 0, 0, 0, 0, 0], [0, 0, 0, 0, 0, 0, 0, 1, 0, 0], [1, 1, 1, 0, 0, 0, 0, 0, 1, 1], [0, 0, 0, 0, 0, 0, 0, 1, 0, 0], [0, 0, 0, 0, 1, 1, 0, 0, 0, 0], [0, 0, 0, 0, 0, 0, 0, 0, 1, 0], [0, 0, 0, 0, 0, 0, 0, 0, 1, 0], [0, 0, 0, 0, 0, 0, 0, 1, 0, 0], [1, 0, 0, 0, 0, 0, 0, 0, 0, 1], [0, 0, 0, 0, 1, 1, 0, 1, 0, 0], [1, 0, 0, 0, 0, 0, 0, 0, 0, 1], [0, 0, 0, 0, 0, 0, 1, 0, 1, 0], [0, 0, 0, 0, 0, 0, 0, 0, 1, 0], [0, 0, 0, 1, 0, 0, 0, 0, 0, 0], [0, 0, 0, 0, 0, 0, 0, 1, 0, 0], [1, 0, 0, 0, 0, 0, 0, 0, 0, 1], [0, 0, 0, 0, 1, 1, 0, 0, 0, 0], [0, 0, 0, 1, 0, 0, 0, 0, 0, 0], [0, 0, 0, 1, 1, 1, 0, 0, 0, 0], [0, 1, 1, 0, 0, 0, 0, 0, 0, 0], [1, 1, 1, 0, 0, 0, 0, 0, 0, 1], [1, 0, 0, 0, 0, 0, 0, 0, 1, 1], [0, 0, 0, 0, 0, 0, 1, 0, 0, 0], [1, 0, 0, 0, 0, 0, 0, 0, 0, 1], [0, 0, 0, 0, 1, 1, 0, 0, 0, 0], [0, 0, 0, 0, 0, 0, 0, 0, 1, 0], [0, 0, 0, 0, 0, 0, 0, 0, 1, 0], [0, 1, 1, 0, 0, 0, 0, 0, 0, 0], [0, 1, 1, 0, 0, 0, 0, 0, 0, 0], [0, 0, 0, 0, 1, 1, 0, 1, 0, 0], [0, 0, 0, 0, 1, 1, 0, 0, 0, 0], [0, 0, 0, 0, 0, 0, 0, 0, 1, 0], [0, 0, 0, 0, 0, 0, 0, 0, 1, 0], [0, 0, 0, 0, 0, 0, 1, 0, 0, 0], [1, 0, 0, 0, 0, 0, 0, 0, 0, 1], [0, 0, 0, 0, 0, 0, 0, 1, 0, 0], [0, 0, 0, 0, 1, 1, 0, 0, 0, 0], [0, 0, 0, 0, 1, 1, 0, 0, 0, 0], [0, 1, 1, 0, 0, 0, 0, 0, 0, 0], [0, 0, 0, 0, 1, 1, 0, 0, 0, 0], [1, 0, 0, 0, 0, 0, 0, 0, 0, 1], [0, 0, 0, 0, 0, 0, 0, 0, 1, 0], [0, 0, 0, 0, 0, 0, 0, 1, 0, 0], [1, 0, 0, 0, 0, 0, 0, 0, 0, 1], [0, 0, 0, 0, 1, 1, 0, 0, 0, 0], [1, 0, 0, 0, 0, 0, 0, 0, 0, 1], [0, 0, 0, 0, 0, 0, 1, 0, 1, 0], [0, 0, 0, 0, 1, 1, 0, 0, 0, 0], [0, 0, 0, 0, 1, 1, 0, 0, 0, 0], [1, 0, 0, 0, 0, 0, 0, 0, 1, 1], [1, 0, 0, 0, 0, 0, 0, 0, 0, 1], [0, 1, 1, 0, 0, 0, 0, 0, 0, 0], [0, 0, 0, 0, 0, 0, 1, 0, 0, 0], [1, 0, 0, 0, 0, 0, 0, 0, 0, 1], [0, 0, 0, 0, 1, 1, 0, 0, 0, 0], [0, 0, 0, 0, 0, 0, 0, 1, 0, 0], [0, 0, 0, 0, 0, 0, 0, 1, 0, 0]]\n",
      "[[0, 0, 0, 0, 1, 1, 0, 0, 0, 0, 1.8802899537737972, 4.107408496703783], [0, 0, 0, 0, 0, 0, 1, 0, 0, 0, 2.5000609705475654, 2.1718966467517475], [0, 0, 0, 0, 1, 1, 0, 0, 0, 0, 2.753226724283934, 4.259495692037717], [0, 0, 0, 0, 1, 1, 0, 0, 0, 0, 2.5246087904724277, 5.0], [1, 0, 0, 0, 0, 0, 0, 0, 0, 1, 1.474158426825852, 3.280191415930858], [0, 0, 0, 0, 0, 0, 1, 0, 1, 0, 1.151512192352243, 4.112104794623747], [0, 0, 0, 0, 0, 0, 0, 1, 0, 0, 2.3341147695965674, 3.837344557348615], [1, 0, 0, 0, 0, 0, 0, 0, 0, 1, 4.647409399881553, 1.8314025419617792], [1, 1, 1, 0, 0, 0, 0, 0, 0, 1, 2.898969722188042, 3.729981005067657], [0, 0, 0, 0, 0, 0, 0, 0, 1, 0, 4.196261904459789, 2.6662395632347398], [0, 0, 0, 0, 0, 0, 0, 1, 0, 0, 3.1468158912257422, 1.4502201093962412], [0, 0, 0, 1, 1, 1, 0, 0, 0, 0, 2.6473305276559813, 3.3334576532859046], [0, 0, 0, 0, 0, 0, 0, 1, 0, 0, 2.6849682922534726, 3.8589383811965945], [0, 1, 1, 0, 0, 0, 0, 0, 0, 0, 1.1709526380059287, 3.209428819467803], [0, 0, 0, 0, 1, 1, 0, 0, 0, 0, 2.3378129694535232, 3.2147822994670605], [0, 0, 0, 0, 1, 1, 0, 0, 0, 0, 1.9250449834627261, 3.2007659475823402], [0, 0, 0, 0, 0, 0, 0, 0, 1, 0, 1.9560516313068774, 2.435816604677484], [1, 0, 0, 0, 0, 0, 0, 0, 0, 1, 2.2351109290106024, 3.210888693165998], [0, 0, 0, 0, 0, 0, 0, 0, 1, 0, 4.909157039409877, 1.4570784705965707], [0, 0, 0, 0, 1, 1, 0, 0, 0, 0, 3.1601449033502718, 3.265672001911298], [1, 0, 0, 0, 1, 1, 0, 0, 0, 1, 1.8010063719349318, 2.145576562035558], [0, 0, 0, 0, 0, 0, 0, 1, 0, 0, 2.3700002632613177, 2.129524306653366], [0, 0, 0, 0, 1, 1, 0, 1, 0, 0, 4.663120570916078, 2.0114513657979387], [0, 1, 1, 0, 0, 0, 0, 0, 0, 0, 2.9895791966831666, 3.535718972775612], [0, 0, 0, 0, 0, 0, 0, 1, 0, 0, 3.2292995044323334, 4.144871644248269], [0, 0, 0, 0, 1, 1, 0, 0, 0, 0, 2.3731896100503604, 3.815999899072267], [1, 0, 0, 0, 0, 0, 0, 0, 0, 1, 2.5845642482929634, 3.297334559185856], [0, 0, 0, 0, 0, 0, 0, 0, 1, 0, 2.440463725253437, 3.287366753585502], [0, 0, 0, 1, 1, 1, 0, 0, 0, 0, 3.3404992588906453, 4.726119727210971], [0, 0, 0, 0, 0, 0, 0, 0, 1, 0, 4.238432021999131, 4.754622786191476], [0, 0, 0, 0, 0, 0, 0, 1, 0, 0, 3.1537771547878606, 4.1133401354481975], [1, 0, 0, 0, 1, 1, 0, 0, 0, 1, 2.359230611116004, 3.0362142287733604], [0, 0, 0, 0, 0, 0, 0, 1, 0, 0, 4.553807980198599, 1.9187113093571497], [0, 0, 0, 0, 0, 0, 1, 0, 1, 0, 2.278355959256885, 2.6894797722500243], [0, 1, 1, 0, 0, 0, 0, 0, 0, 0, 2.5141005071661766, 1.577341860683191], [0, 0, 0, 0, 1, 1, 0, 0, 0, 0, 2.407991954533543, 3.8133647366059904], [0, 0, 0, 0, 0, 0, 0, 1, 0, 0, 3.943665847125885, 2.013115050625629], [0, 0, 0, 0, 1, 1, 0, 0, 0, 0, 2.5380286215173555, 4.94249321694042], [0, 0, 0, 1, 0, 0, 0, 0, 0, 0, 1.2602371312327136, 4.1236279137981455], [0, 0, 0, 0, 0, 0, 0, 1, 0, 0, 2.5374943925745015, 3.3213715460803996], [0, 0, 0, 0, 0, 0, 0, 1, 0, 0, 2.5265841019887034, 4.099599206139601], [0, 0, 0, 0, 0, 0, 0, 0, 1, 0, 1.7959025743265329, 2.1461742913170383], [0, 0, 0, 0, 0, 0, 0, 1, 0, 0, 2.7489902887669473, 3.818795915261717], [0, 0, 0, 0, 0, 0, 0, 1, 0, 0, 2.5465629288796663, 2.8973800555575053], [0, 0, 0, 0, 1, 1, 0, 0, 0, 0, 2.3336407535978196, 2.158685178512087], [0, 0, 0, 0, 0, 0, 0, 1, 0, 0, 4.0441097191896915, 4.700568318282194], [0, 0, 0, 0, 0, 0, 0, 0, 1, 0, 2.5728055901257108, 2.7207011645336934], [1, 0, 0, 0, 0, 0, 0, 0, 0, 1, 2.422738008929059, 3.2630478784260504], [0, 0, 0, 0, 0, 0, 0, 0, 1, 0, 3.1347022499461445, 4.411999214655452], [0, 0, 0, 0, 1, 1, 0, 0, 0, 0, 2.7286588707736996, 3.815009544776103], [0, 0, 0, 0, 0, 0, 0, 0, 1, 0, 2.9259362636518063, 2.410537338170343], [0, 0, 0, 0, 1, 1, 0, 0, 0, 0, 3.1353526736841104, 2.7542975147312063], [0, 0, 0, 0, 0, 0, 0, 1, 0, 0, 3.1459609352659186, 2.713523634852436], [0, 0, 0, 1, 0, 0, 0, 0, 0, 0, 3.1512379713003043, 2.1868591970087436], [1, 0, 0, 0, 0, 0, 0, 0, 0, 1, 2.2903552715359865, 3.198109132943273], [0, 0, 0, 0, 1, 1, 0, 0, 0, 0, 2.224033064161233, 3.2659815349388737], [0, 1, 1, 0, 0, 0, 0, 0, 0, 0, 4.729484998404246, 1.4581528315382002], [1, 0, 0, 0, 0, 0, 0, 0, 0, 1, 3.5380905112725713, 3.4580499009250616], [1, 0, 0, 0, 0, 0, 0, 0, 0, 1, 1.0158273898700259, 2.711119329019084], [0, 0, 0, 0, 1, 1, 0, 0, 0, 0, 3.137700609887986, 1.0], [0, 0, 0, 1, 0, 0, 0, 0, 0, 0, 2.717099492022328, 2.445141389634273], [0, 0, 0, 0, 0, 0, 0, 1, 0, 0, 1.7709947254969052, 3.266938330732728], [0, 0, 0, 0, 0, 0, 0, 1, 0, 0, 2.7355998403139097, 4.2628073863400004], [0, 0, 0, 0, 0, 0, 0, 0, 1, 0, 4.636702949691255, 1.7579522059431838], [0, 0, 0, 0, 1, 1, 0, 0, 0, 0, 2.3367735843067976, 3.211486517067442], [0, 0, 0, 0, 1, 1, 0, 1, 0, 0, 3.6336921161713462, 2.3910377667195917], [0, 1, 1, 0, 0, 0, 0, 0, 0, 0, 2.715530194502719, 1.5675581695161327], [0, 0, 0, 1, 0, 0, 0, 0, 0, 0, 1.9612817326575396, 4.546261609656767], [0, 0, 0, 0, 0, 0, 1, 0, 1, 0, 3.272772826732819, 3.7993863903557212], [0, 0, 0, 0, 0, 0, 0, 1, 0, 0, 2.1743255572120006, 3.2553268997100986], [0, 1, 1, 0, 0, 0, 0, 0, 0, 0, 2.568713396423334, 4.526355172906051], [1, 0, 0, 0, 0, 0, 0, 0, 1, 1, 3.246051954455254, 4.980435235481082], [0, 0, 0, 1, 0, 0, 0, 0, 0, 0, 3.1354848953474743, 2.7805986754799505], [0, 0, 0, 0, 0, 0, 0, 1, 0, 0, 2.3627677997119463, 4.377699476357975], [1, 1, 1, 0, 0, 0, 0, 0, 1, 1, 1.367155040713783, 4.1026270409302015], [0, 0, 0, 0, 0, 0, 0, 1, 0, 0, 1.761366584374116, 4.136944078887609], [0, 0, 0, 0, 1, 1, 0, 0, 0, 0, 3.6528054921748208, 1.9173566686877166], [0, 0, 0, 0, 0, 0, 0, 0, 1, 0, 3.9257123409224732, 2.1886727438886737], [0, 0, 0, 0, 0, 0, 0, 0, 1, 0, 2.8026095121903154, 4.641967997994016], [0, 0, 0, 0, 0, 0, 0, 1, 0, 0, 3.565672284142579, 4.999167992001503], [1, 0, 0, 0, 0, 0, 0, 0, 0, 1, 2.5917642868166695, 3.44797673613607], [0, 0, 0, 0, 1, 1, 0, 1, 0, 0, 1.0, 2.7424766269289194], [1, 0, 0, 0, 0, 0, 0, 0, 0, 1, 1.7420408523657898, 3.2791237887674924], [0, 0, 0, 0, 0, 0, 1, 0, 1, 0, 2.735347417138371, 2.8474460134691526], [0, 0, 0, 0, 0, 0, 0, 0, 1, 0, 2.943816906369591, 4.996544798944569], [0, 0, 0, 1, 0, 0, 0, 0, 0, 0, 2.694116962900182, 2.6527089265143786], [0, 0, 0, 0, 0, 0, 0, 1, 0, 0, 2.801006769267701, 2.975450047428012], [1, 0, 0, 0, 0, 0, 0, 0, 0, 1, 2.3884979404082856, 2.7943863627583596], [0, 0, 0, 0, 1, 1, 0, 0, 0, 0, 3.143898696687131, 4.7537431055648085], [0, 0, 0, 1, 0, 0, 0, 0, 0, 0, 2.8366292112722817, 3.598062028034292], [0, 0, 0, 1, 1, 1, 0, 0, 0, 0, 3.6561052961400264, 1.880998460062301], [0, 1, 1, 0, 0, 0, 0, 0, 0, 0, 2.550836760422669, 3.828518103534634], [1, 1, 1, 0, 0, 0, 0, 0, 0, 1, 1.2815309386261333, 4.121540742119123], [1, 0, 0, 0, 0, 0, 0, 0, 1, 1, 2.9398195383045618, 4.7622723900103665], [0, 0, 0, 0, 0, 0, 1, 0, 0, 0, 3.1328511466591067, 3.5988741816370293], [1, 0, 0, 0, 0, 0, 0, 0, 0, 1, 2.8458344300524914, 3.399975730011647], [0, 0, 0, 0, 1, 1, 0, 0, 0, 0, 4.714578838265652, 2.704975347590107], [0, 0, 0, 0, 0, 0, 0, 0, 1, 0, 2.543545541038384, 3.264018614876022], [0, 0, 0, 0, 0, 0, 0, 0, 1, 0, 1.46439272175013, 2.696377558382437], [0, 1, 1, 0, 0, 0, 0, 0, 0, 0, 2.361632316127441, 3.7841988183558897], [0, 1, 1, 0, 0, 0, 0, 0, 0, 0, 2.145035119846739, 2.1784017605598365], [0, 0, 0, 0, 1, 1, 0, 1, 0, 0, 1.9838034893165286, 4.38434656723166], [0, 0, 0, 0, 1, 1, 0, 0, 0, 0, 1.8179147179767483, 1.569642959929297], [0, 0, 0, 0, 0, 0, 0, 0, 1, 0, 2.5510010358225372, 2.7240759387275375], [0, 0, 0, 0, 0, 0, 0, 0, 1, 0, 1.813226859003123, 4.1000139564259825], [0, 0, 0, 0, 0, 0, 1, 0, 0, 0, 2.7572628239473147, 3.7620792078428167], [1, 0, 0, 0, 0, 0, 0, 0, 0, 1, 2.636019565363142, 3.2376803000711334], [0, 0, 0, 0, 0, 0, 0, 1, 0, 0, 2.8187048606135363, 3.2106031778071156], [0, 0, 0, 0, 1, 1, 0, 0, 0, 0, 2.9471280974246383, 3.81421669362021], [0, 0, 0, 0, 1, 1, 0, 0, 0, 0, 1.1691505248485328, 3.211286096482354], [0, 1, 1, 0, 0, 0, 0, 0, 0, 0, 2.91767708419502, 3.520866433849278], [0, 0, 0, 0, 1, 1, 0, 0, 0, 0, 3.641545281631579, 2.029336092027279], [1, 0, 0, 0, 0, 0, 0, 0, 0, 1, 2.973481303994788, 2.715659504207906], [0, 0, 0, 0, 0, 0, 0, 0, 1, 0, 5.0, 1.7251301614135173], [0, 0, 0, 0, 0, 0, 0, 1, 0, 0, 3.348197497957358, 3.822162804468917], [1, 0, 0, 0, 0, 0, 0, 0, 0, 1, 2.773081342945659, 3.3944748323060594], [0, 0, 0, 0, 1, 1, 0, 0, 0, 0, 3.3036096365181606, 2.748683909029296], [1, 0, 0, 0, 0, 0, 0, 0, 0, 1, 3.935610267661559, 1.8899910347704463], [0, 0, 0, 0, 0, 0, 1, 0, 1, 0, 2.3841519879580346, 3.23071785704974], [0, 0, 0, 0, 1, 1, 0, 0, 0, 0, 3.6291912373276887, 2.4035275852306768], [0, 0, 0, 0, 1, 1, 0, 0, 0, 0, 2.619504823179568, 3.8093239333782094], [1, 0, 0, 0, 0, 0, 0, 0, 1, 1, 2.918680099035214, 4.171373083652725], [1, 0, 0, 0, 0, 0, 0, 0, 0, 1, 2.5388473273722525, 4.549500762084108], [0, 1, 1, 0, 0, 0, 0, 0, 0, 0, 3.133644476639347, 1.47707479619271], [0, 0, 0, 0, 0, 0, 1, 0, 0, 0, 2.553510672442883, 3.2691564878061854], [1, 0, 0, 0, 0, 0, 0, 0, 0, 1, 3.3954286787964634, 2.1760015706893228], [0, 0, 0, 0, 1, 1, 0, 0, 0, 0, 2.4192449062410333, 3.2188681259674468], [0, 0, 0, 0, 0, 0, 0, 1, 0, 0, 2.5165112152709526, 1.285073799530437], [0, 0, 0, 0, 0, 0, 0, 1, 0, 0, 2.3528455922674425, 2.854424526092771]]\n"
     ]
    }
   ],
   "source": [
    "#vectorize\n",
    "list1 = df.loc[:,'cats']\n",
    "print (list1.values)\n",
    "final = []\n",
    "for item in list1:\n",
    "    stringbuilder = ''\n",
    "    if (len(item) > 1):\n",
    "        for item2 in item:\n",
    "            stringbuilder += item2 + \" \"\n",
    "    else:\n",
    "        stringbuilder=str(item[0])\n",
    "    final.append(stringbuilder)\n",
    "    \n",
    "print(final)\n",
    "\n",
    "from sklearn.feature_extraction.text import CountVectorizer\n",
    "vectorizer = CountVectorizer()\n",
    "mtx = vectorizer.fit_transform(final)\n",
    "print(vectorizer.get_feature_names())\n",
    "mtx = (mtx.toarray())\n",
    "\n",
    "finalM = mtx.tolist()\n",
    "counter = 0\n",
    "\n",
    "print(finalM)\n",
    "for item in finalM:\n",
    "    item.append(float(latoneto5[counter]))\n",
    "    item.append(float(longoneto5[counter]))\n",
    "    counter+=1\n",
    "\n",
    "print(finalM)"
   ]
  },
  {
   "cell_type": "code",
   "execution_count": 71,
   "metadata": {},
   "outputs": [
    {
     "data": {
      "image/png": "[encoded data removed]",
      "text/plain": [
       "<matplotlib.figure.Figure at 0x20c16f2f048>"
      ]
     },
     "metadata": {},
     "output_type": "display_data"
    }
   ],
   "source": [
    "#Kmeans\n",
    "from sklearn.cluster import KMeans\n",
    "import matplotlib.pyplot as plt\n",
    "%matplotlib inline\n",
    "\n",
    "def evaluate_clusters(X,max_clusters):\n",
    "    error = np.zeros(max_clusters+1)\n",
    "    error[0] = 0;\n",
    "    for k in range(1,max_clusters+1):\n",
    "        kmeans = KMeans(init='k-means++', n_clusters=k, n_init=10)\n",
    "        kmeans.fit_predict(X)\n",
    "        error[k] = kmeans.inertia_\n",
    "\n",
    "    plt.plot(range(1,len(error)),error[1:])\n",
    "    plt.xlabel('Number of clusters')\n",
    "    plt.ylabel('Error')\n",
    "\n",
    "evaluate_clusters(finalM, 30) #maybe 8 clusters"
   ]
  },
  {
   "cell_type": "code",
   "execution_count": 77,
   "metadata": {},
   "outputs": [
    {
     "data": {
      "text/plain": [
       "<matplotlib.text.Text at 0x20c18c798d0>"
      ]
     },
     "execution_count": 77,
     "metadata": {},
     "output_type": "execute_result"
    },
    {
     "data": {
      "image/png": "[encoded data removed]",
      "text/plain": [
       "<matplotlib.figure.Figure at 0x20c18b86470>"
      ]
     },
     "metadata": {},
     "output_type": "display_data"
    }
   ],
   "source": [
    "#Hierarchal\n",
    "\n",
    "import scipy.cluster\n",
    "import scipy.cluster.hierarchy as hierarchy\n",
    "import scipy.spatial.distance\n",
    "import sklearn.metrics as metrics\n",
    "\n",
    "Z_20ng = hierarchy.linkage(finalM, method='ward', metric='euclidean')\n",
    "#plt.figure(figsize=(14,4))\n",
    "#R_20ng = hierarchy.dendrogram(Z_20ng, p=4, truncate_mode='level', show_leaf_counts=True)\n",
    "\n",
    "max_clusters = 30\n",
    "s = np.zeros(max_clusters+1)\n",
    "for k in range(2,max_clusters+1):\n",
    "    clusters = hierarchy.fcluster(Z_20ng, k, criterion='maxclust')\n",
    "    s[k] = metrics.silhouette_score(finalM,clusters,metric='euclidean')\n",
    "plt.plot(range(2,len(s)),s[2:])\n",
    "plt.xlabel('Number of clusters')\n",
    "plt.ylabel('Silhouette Score')"
   ]
  },
  {
   "cell_type": "code",
   "execution_count": null,
   "metadata": {
    "collapsed": true
   },
   "outputs": [],
   "source": [
    "#GMM\n"
   ]
  },
  {
   "cell_type": "markdown",
   "metadata": {},
   "source": [
    "b) Explain your data representation and how you determined certain parameters (for example, the number of clusters for each method). **(1 pt)**"
   ]
  },
  {
   "cell_type": "code",
   "execution_count": null,
   "metadata": {
    "collapsed": true
   },
   "outputs": [],
   "source": []
  },
  {
   "cell_type": "markdown",
   "metadata": {},
   "source": [
    "c) Visualize the clusters by plotting the longitude/latitude of the restaurants in a scatter plot. Label each cluster with a category. In a markdown, explain how labels are assigned. **(2 pts)**\n",
    "\n",
    "Note that some categories are inherently more common (e.g. \"pizza\"). When labeling your clusters, you want to avoid the scenario where all clusters are labeled as \"pizza\" simply because of the uniformly large number of these restaurants across all clusters. In other words, we don’t want to point out that pizza restaurants are pretty much evenly distributed in high quantities everywhere, but rather discover when they, or another type of restaurant, appear in notably high quantities."
   ]
  },
  {
   "cell_type": "code",
   "execution_count": null,
   "metadata": {
    "collapsed": true
   },
   "outputs": [],
   "source": []
  },
  {
   "cell_type": "markdown",
   "metadata": {},
   "source": [
    "d) Now let's detect outliers. These are the points that are the farthest from the centroids of their clusters. In order to find the outliers, you need to find the distances of all cluster points from the centroid and select the ones whose distance is above the 85th percentile. **(3 pts)**"
   ]
  },
  {
   "cell_type": "code",
   "execution_count": null,
   "metadata": {
    "collapsed": true
   },
   "outputs": [],
   "source": []
  },
  {
   "cell_type": "markdown",
   "metadata": {},
   "source": [
    "e) Give an analysis comparing the results you obtained from the 3 techniques. **(1 pts)**"
   ]
  },
  {
   "cell_type": "markdown",
   "metadata": {
    "collapsed": true
   },
   "source": []
  },
  {
   "cell_type": "markdown",
   "metadata": {},
   "source": [
    "----------"
   ]
  }
 ],
 "metadata": {
  "anaconda-cloud": {},
  "kernelspec": {
   "display_name": "Python 3",
   "language": "python",
   "name": "python3"
  },
  "language_info": {
   "codemirror_mode": {
    "name": "ipython",
    "version": 3
   },
   "file_extension": ".py",
   "mimetype": "text/x-python",
   "name": "python",
   "nbconvert_exporter": "python",
   "pygments_lexer": "ipython3",
   "version": "3.6.1"
  }
 },
 "nbformat": 4,
 "nbformat_minor": 1
}
